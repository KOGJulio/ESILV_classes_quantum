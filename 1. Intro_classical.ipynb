{
 "cells": [
  {
   "cell_type": "markdown",
   "metadata": {},
   "source": [
    "# Welcome to QUBO practical lessons\n",
    "\n",
    "First things first: how to formulate QUBO and how to solve it classicaly?"
   ]
  },
  {
   "cell_type": "code",
   "execution_count": 1,
   "metadata": {},
   "outputs": [
    {
     "name": "stdout",
     "output_type": "stream",
     "text": [
      "Minimum point: [-1.6666667   2.33333325]\n",
      "Minimum value: 0.6666666666666767\n"
     ]
    }
   ],
   "source": [
    "import numpy as np\n",
    "from scipy.optimize import minimize\n",
    "\n",
    "# Define the quadratic objective function\n",
    "def quadratic_function(x, Q, c, beta):\n",
    "    return 0.5 * np.dot(x, np.dot(Q, x)) + np.dot(c, x) + beta\n",
    "\n",
    "# Set up the quadratic problem\n",
    "Q = np.array([[2, 1], [1, 2]])  # Symmetric positive definite matrix\n",
    "c = np.array([1, -3])            # Vector\n",
    "beta = 5                         # Scalar\n",
    "\n",
    "# Minimize the quadratic function using scipy's minimize function\n",
    "result = minimize(quadratic_function, x0=np.zeros(2), args=(Q, c, beta))\n",
    "\n",
    "# The result contains information about the optimization, including the minimum point\n",
    "print(\"Minimum point:\", result.x)\n",
    "print(\"Minimum value:\", result.fun)\n"
   ]
  },
  {
   "cell_type": "code",
   "execution_count": null,
   "metadata": {},
   "outputs": [],
   "source": []
  }
 ],
 "metadata": {
  "kernelspec": {
   "display_name": "base",
   "language": "python",
   "name": "python3"
  },
  "language_info": {
   "codemirror_mode": {
    "name": "ipython",
    "version": 3
   },
   "file_extension": ".py",
   "mimetype": "text/x-python",
   "name": "python",
   "nbconvert_exporter": "python",
   "pygments_lexer": "ipython3",
   "version": "3.9.12"
  }
 },
 "nbformat": 4,
 "nbformat_minor": 2
}
