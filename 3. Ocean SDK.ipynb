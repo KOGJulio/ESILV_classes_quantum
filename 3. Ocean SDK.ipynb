{
 "cells": [
  {
   "cell_type": "markdown",
   "metadata": {},
   "source": [
    "# Research on D-Wave's SDK Ocean"
   ]
  },
  {
   "cell_type": "code",
   "execution_count": 5,
   "metadata": {},
   "outputs": [],
   "source": [
    "#firstly, installing Ocean\n",
    "#pip install dwave-ocean-sdk"
   ]
  },
  {
   "cell_type": "code",
   "execution_count": 1,
   "metadata": {},
   "outputs": [],
   "source": [
    "#importing all required libraries\n",
    "import networkx as nx\n",
    "import matplotlib\n",
    "matplotlib.use(\"agg\")\n",
    "from matplotlib import pyplot as plt\n",
    "\n",
    "from collections import defaultdict\n",
    "\n",
    "from dimod.reference.samplers import ExactSolver\n",
    "import dwave_networkx as dnx\n",
    "from dwave.system import DWaveSampler, EmbeddingComposite"
   ]
  },
  {
   "cell_type": "code",
   "execution_count": 2,
   "metadata": {},
   "outputs": [
    {
     "name": "stdout",
     "output_type": "stream",
     "text": [
      "[0]\n",
      "[0]\n"
     ]
    }
   ],
   "source": [
    "s5 = nx.star_graph(4)\n",
    "sampler = ExactSolver()\n",
    "print(dnx.min_vertex_cover(s5, sampler))\n",
    "#sampler = EmbeddingComposite(DWaveSampler(token=token))\n",
    "sampler = EmbeddingComposite(DWaveSampler())\n",
    "print(dnx.min_vertex_cover(s5, sampler))"
   ]
  },
  {
   "cell_type": "markdown",
   "metadata": {},
   "source": [
    "# Max cut problem"
   ]
  },
  {
   "cell_type": "code",
   "execution_count": 3,
   "metadata": {},
   "outputs": [
    {
     "name": "stdout",
     "output_type": "stream",
     "text": [
      "defaultdict(<class 'int'>, {})\n"
     ]
    }
   ],
   "source": [
    "Q = defaultdict(int)\n",
    "print(Q)"
   ]
  },
  {
   "cell_type": "code",
   "execution_count": 4,
   "metadata": {},
   "outputs": [
    {
     "name": "stdout",
     "output_type": "stream",
     "text": [
      "defaultdict(<class 'int'>, {(1, 1): -2, (2, 2): -2, (1, 2): 2, (3, 3): -3, (1, 3): 2, (4, 4): -3, (2, 4): 2, (3, 4): 2, (5, 5): -2, (3, 5): 2, (4, 5): 2})\n"
     ]
    }
   ],
   "source": [
    "# ------- Set up our graph -------\n",
    "\n",
    "# Create empty graph\n",
    "G = nx.Graph()\n",
    "\n",
    "# Add edges to the graph\n",
    "G.add_edges_from([(1,2),(1,3),(2,4),(3,4),(3,5),(4,5)])\n",
    "# G.add_edges_from([(1,3),(1,6),(1,9),(2,7),(2,4),(3,8),(3,11),(4,6),(4,9),(4,10),(5,6),(6,12),(6,13),(7,11),(8,10),(9,11),(12,13)])\n",
    "# G.add_edges_from([(1,7),(1,9),(2,3),(2,13),(3,12),(4,11),(5,11),(6,13),(8,12),(10,11),(10,14)])\n",
    "\n",
    "# ------- Set up our QUBO dictionary -------\n",
    "\n",
    "# Initialize the Q matrix\n",
    "Q = defaultdict(int)\n",
    "\n",
    "# Update Q matrix for every edge in the graph\n",
    "for i, j in G.edges:\n",
    "    Q[(i,i)]+= -1\n",
    "    Q[(j,j)]+= -1\n",
    "    Q[(i,j)]+= 2\n",
    "print(Q)"
   ]
  },
  {
   "cell_type": "code",
   "execution_count": 5,
   "metadata": {},
   "outputs": [
    {
     "name": "stdout",
     "output_type": "stream",
     "text": [
      "------------------------------------------------------------\n",
      "          Set 0          Set 1    Energy        Cut Size    \n",
      "------------------------------------------------------------\n",
      "      [2, 3, 5]         [1, 4]     -5.0             5       \n",
      "      [1, 4, 5]         [2, 3]     -5.0             5       \n",
      "         [1, 4]      [2, 3, 5]     -5.0             5       \n",
      "         [2, 3]      [1, 4, 5]     -5.0             5       \n",
      "\n",
      "Your plot is saved to maxcut_plot.png\n"
     ]
    }
   ],
   "source": [
    "# ------- Run our QUBO on the QPU -------\n",
    "# Set up QPU parameters\n",
    "chainstrength = 8\n",
    "numruns = 100\n",
    "\n",
    "# Run the QUBO on the solver from your config file\n",
    "sampler = EmbeddingComposite(DWaveSampler())\n",
    "response = sampler.sample_qubo(Q,\n",
    "                               chain_strength=chainstrength,\n",
    "                               num_reads=numruns,\n",
    "                               label='Example - Maximum Cut')\n",
    "\n",
    "# ------- Print results to user -------\n",
    "print('-' * 60)\n",
    "print('{:>15s}{:>15s}{:^15s}{:^15s}'.format('Set 0','Set 1','Energy','Cut Size'))\n",
    "print('-' * 60)\n",
    "for sample, E in response.data(fields=['sample','energy']):\n",
    "    S0 = [k for k,v in sample.items() if v == 0]\n",
    "    S1 = [k for k,v in sample.items() if v == 1]\n",
    "    print('{:>15s}{:>15s}{:^15s}{:^15s}'.format(str(S0),str(S1),str(E),str(int(-1*E))))\n",
    "\n",
    "# ------- Display results to user -------\n",
    "# Grab best result\n",
    "# Note: \"best\" result is the result with the lowest energy\n",
    "# Note2: the look up table (lut) is a dictionary, where the key is the node index\n",
    "#   and the value is the set label. For example, lut[5] = 1, indicates that\n",
    "#   node 5 is in set 1 (S1).\n",
    "lut = response.first.sample\n",
    "\n",
    "# Interpret best result in terms of nodes and edges\n",
    "S0 = [node for node in G.nodes if not lut[node]]\n",
    "S1 = [node for node in G.nodes if lut[node]]\n",
    "cut_edges = [(u, v) for u, v in G.edges if lut[u]!=lut[v]]\n",
    "uncut_edges = [(u, v) for u, v in G.edges if lut[u]==lut[v]]\n",
    "\n",
    "# Display best result\n",
    "pos = nx.spring_layout(G)\n",
    "nx.draw_networkx_nodes(G, pos, nodelist=S0, node_color='r')\n",
    "nx.draw_networkx_nodes(G, pos, nodelist=S1, node_color='c')\n",
    "nx.draw_networkx_edges(G, pos, edgelist=cut_edges, style='dashdot', alpha=0.5, width=3)\n",
    "nx.draw_networkx_edges(G, pos, edgelist=uncut_edges, style='solid', width=3)\n",
    "nx.draw_networkx_labels(G, pos)\n",
    "\n",
    "filename = \"maxcut_plot.png\"\n",
    "plt.savefig(filename, bbox_inches='tight')\n",
    "print(\"\\nYour plot is saved to {}\".format(filename))"
   ]
  },
  {
   "cell_type": "markdown",
   "metadata": {},
   "source": [
    "## Constrained environment. Knapsack problem"
   ]
  },
  {
   "cell_type": "code",
   "execution_count": 6,
   "metadata": {},
   "outputs": [],
   "source": [
    "from dimod import ConstrainedQuadraticModel, BinaryQuadraticModel, QuadraticModel\n",
    "from dwave.system import LeapHybridCQMSampler"
   ]
  },
  {
   "cell_type": "code",
   "execution_count": 7,
   "metadata": {},
   "outputs": [],
   "source": [
    "values = [2,3,4]\n",
    "weights = [5,3,1]\n",
    "max_weight = 5"
   ]
  },
  {
   "cell_type": "code",
   "execution_count": 8,
   "metadata": {},
   "outputs": [
    {
     "name": "stdout",
     "output_type": "stream",
     "text": [
      "solving for 3 items\n",
      "build the model\n",
      "Constrained quadratic model: 3 variables, 1 constraints, 6 biases\n",
      "\n",
      "Objective\n",
      "  -2*Binary(0) - 3*Binary(1) - 4*Binary(2)\n",
      "\n",
      "Constraints\n",
      "  capacity: 5*Binary(0) + 3*Binary(1) + Binary(2) <= 5.0\n",
      "\n",
      "Bounds\n",
      "\n",
      "submit model to solver hybrid_constrained_quadratic_model_version1\n",
      "parse the solver output\n",
      "[1, 2]\n",
      "0 0.0\n",
      "1 1.0\n",
      "2 1.0\n"
     ]
    }
   ],
   "source": [
    "print(f\"solving for {len(values)} items\")\n",
    "print(\"build the model\")\n",
    "cqm = ConstrainedQuadraticModel()\n",
    "obj = BinaryQuadraticModel(vartype=\"BINARY\")\n",
    "constraint = QuadraticModel()\n",
    "\n",
    "for i in range(len(values)):\n",
    "    obj.add_variable(i)\n",
    "    obj.set_linear(i, -values[i])\n",
    "    constraint.add_variable(\"BINARY\", i)\n",
    "    constraint.set_linear(i, weights[i])\n",
    "\n",
    "cqm.set_objective(obj)\n",
    "cqm.add_constraint(constraint, sense=\"<=\", rhs=max_weight, label=\"capacity\")\n",
    "print(cqm)\n",
    "\n",
    "sampler = LeapHybridCQMSampler()\n",
    "print(f\"submit model to solver {sampler.solver.name}\")\n",
    "sampleset = sampler.sample_cqm(cqm, label=\"knapsack problem\")\n",
    "\n",
    "print(\"parse the solver output\")\n",
    "feasible_sampleset = sampleset.filter(lambda row: row.is_feasible)\n",
    "if not len(feasible_sampleset):\n",
    "    raise ValueError(\"No feasible solution found\")\n",
    "best = feasible_sampleset.first\n",
    "\n",
    "selected_items = [key for key, val in best.sample.items() if val == 1.0]\n",
    "print(selected_items)\n",
    "for key, val in best.sample.items():\n",
    "    print(key, val)"
   ]
  }
 ],
 "metadata": {
  "interpreter": {
   "hash": "765bd6793ea5362367183dba09c599ce34c84eeeb7f3172847d560f9d0858670"
  },
  "kernelspec": {
   "display_name": "Python 3.9.12 ('base')",
   "language": "python",
   "name": "python3"
  },
  "language_info": {
   "codemirror_mode": {
    "name": "ipython",
    "version": 3
   },
   "file_extension": ".py",
   "mimetype": "text/x-python",
   "name": "python",
   "nbconvert_exporter": "python",
   "pygments_lexer": "ipython3",
   "version": "3.9.12"
  },
  "orig_nbformat": 4
 },
 "nbformat": 4,
 "nbformat_minor": 2
}
