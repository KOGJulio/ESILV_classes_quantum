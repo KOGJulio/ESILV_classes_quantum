{
 "cells": [
  {
   "attachments": {},
   "cell_type": "markdown",
   "id": "e291b6c0",
   "metadata": {},
   "source": [
    "## QAOA for MAX-CUT using Qiskit\n"
   ]
  },
  {
   "cell_type": "code",
   "execution_count": 1,
   "id": "19bdd63a",
   "metadata": {},
   "outputs": [],
   "source": [
    "from qiskit import QuantumCircuit\n",
    "from qiskit.primitives import Sampler"
   ]
  },
  {
   "cell_type": "code",
   "execution_count": 93,
   "id": "d91e74722df46d36",
   "metadata": {
    "ExecuteTime": {
     "end_time": "2024-02-21T15:19:36.141352Z",
     "start_time": "2024-02-21T15:19:36.138006Z"
    }
   },
   "outputs": [],
   "source": [
    "# Define the graph or graphs that you will use for MAX-CUT\n",
    "# TODO "
   ]
  },
  {
   "cell_type": "code",
   "execution_count": null,
   "id": "efada2db",
   "metadata": {},
   "outputs": [],
   "source": [
    "def maxcut_obj(x, G):\n",
    "    \"\"\"\n",
    "    Given a bitstring as a solution, this function returns\n",
    "    the number of edges shared between the two partitions\n",
    "    of the graph.\n",
    "\n",
    "    Args:\n",
    "        x: str\n",
    "           solution bitstring\n",
    "\n",
    "        G: networkx graph\n",
    "\n",
    "    Returns:\n",
    "        obj: float\n",
    "             Objective\n",
    "    \"\"\"\n",
    "\n",
    "    return obj"
   ]
  },
  {
   "cell_type": "code",
   "execution_count": null,
   "id": "1b22d3a5",
   "metadata": {},
   "outputs": [],
   "source": [
    "def compute_expectation(counts, G):\n",
    "    \"\"\"\n",
    "    Computes expectation value based on measurement results\n",
    "\n",
    "    Args:\n",
    "        counts: dict\n",
    "                key as bitstring, val as count\n",
    "\n",
    "        G: networkx graph\n",
    "\n",
    "    Returns:\n",
    "        avg: float\n",
    "             expectation value\n",
    "    \"\"\"\n",
    "\n",
    "    return "
   ]
  },
  {
   "cell_type": "code",
   "execution_count": 94,
   "id": "b6dabf56",
   "metadata": {
    "ExecuteTime": {
     "end_time": "2024-02-21T15:19:36.717099Z",
     "start_time": "2024-02-21T15:19:36.712635Z"
    }
   },
   "outputs": [],
   "source": [
    "# Define the Hamiltonian operator of the problem that we want to solve\n",
    "def mixer_hamiltonian(qc, beta):\n",
    "    for i in range(qc.num_qubits):\n",
    "        qc.rx(2 * beta, i)\n",
    "\n",
    "def cost_hamiltonian(qc, gamma, pair):\n",
    "    # problem specific, this function might need changes\n",
    "    for (i,j) in pair:\n",
    "        qc.rzz(2 * gamma, i, j)\n",
    "\n",
    "# Build a qiskit circuit that will correspond to the QAOA ansatz circuit\n",
    "# TODO "
   ]
  },
  {
   "cell_type": "code",
   "execution_count": 2,
   "id": "b4ebe4ca",
   "metadata": {},
   "outputs": [
    {
     "data": {
      "text/html": [
       "<pre style=\"word-wrap: normal;white-space: pre;background: #fff0;line-height: 1.1;font-family: &quot;Courier New&quot;,Courier,monospace\">     ┌──────────┐            \n",
       "q_0: ┤ Rz(θ[0]) ├─────■──────\n",
       "     └──────────┘┌────┴─────┐\n",
       "q_1: ────────────┤ Rz(θ[1]) ├\n",
       "                 └──────────┘</pre>"
      ],
      "text/plain": [
       "     ┌──────────┐            \n",
       "q_0: ┤ Rz(θ[0]) ├─────■──────\n",
       "     └──────────┘┌────┴─────┐\n",
       "q_1: ────────────┤ Rz(θ[1]) ├\n",
       "                 └──────────┘"
      ]
     },
     "execution_count": 2,
     "metadata": {},
     "output_type": "execute_result"
    }
   ],
   "source": [
    "# updating several parameters option\n",
    "from qiskit.circuit import ParameterVector\n",
    "theta_list = ParameterVector('θ', length=2)\n",
    "\n",
    "qc = QuantumCircuit(2)\n",
    "qc.rz(theta_list[0], 0)\n",
    "qc.crz(theta_list[1], 0, 1)\n",
    "qc.draw()"
   ]
  },
  {
   "cell_type": "code",
   "execution_count": null,
   "id": "2fbd67bc",
   "metadata": {},
   "outputs": [],
   "source": [
    "def cost_func(qc_vqe, G):\n",
    "\n",
    "    # next four lines are to obtain the state in the correct shape. \n",
    "    res = # ...\n",
    "    res_bitstring = {}\n",
    "    for i in range(2**len(G)):\n",
    "        res_bitstring[f'{i:04b}'] = res[i]\n",
    "      \n",
    "    return # cost"
   ]
  },
  {
   "cell_type": "code",
   "execution_count": 103,
   "id": "0076beb6",
   "metadata": {
    "ExecuteTime": {
     "end_time": "2024-02-21T15:19:49.909992Z",
     "start_time": "2024-02-21T15:19:49.730546Z"
    }
   },
   "outputs": [],
   "source": [
    "# Run the minimization routine\n",
    "options = {\"maxiter\":100}\n",
    "res = minimize(cost_func, x0, args=(...), method=\"COBYLA\", options=options)"
   ]
  },
  {
   "attachments": {},
   "cell_type": "markdown",
   "id": "d162e690",
   "metadata": {},
   "source": [
    "## Get optimal result\n"
   ]
  },
  {
   "cell_type": "code",
   "execution_count": 87,
   "id": "c34df26866e7eb40",
   "metadata": {
    "ExecuteTime": {
     "end_time": "2024-02-21T15:11:52.023699Z",
     "start_time": "2024-02-21T15:11:52.019253Z"
    },
    "collapsed": false
   },
   "outputs": [],
   "source": [
    "# We must import the optimal parameters to the QAOA ansatz circuit in order to measure it and to obtain the optimal bitstring that will correspond to the optimal solution of the MAX-CUT problem\n",
    "qc = ansatz.assign_parameters(...)\n",
    "# Add measurements to our circuit\n",
    "qc.measure_all()"
   ]
  },
  {
   "cell_type": "code",
   "execution_count": 88,
   "id": "554563ff",
   "metadata": {
    "ExecuteTime": {
     "end_time": "2024-02-21T15:11:52.704113Z",
     "start_time": "2024-02-21T15:11:52.694021Z"
    }
   },
   "outputs": [],
   "source": [
    "# Sample ansatz at optimal parameters\n",
    "samp_dist = sampler.run(qc).result().quasi_dists[0]"
   ]
  }
 ],
 "metadata": {
  "kernelspec": {
   "display_name": "Python 3 (ipykernel)",
   "language": "python",
   "name": "python3"
  },
  "language_info": {
   "codemirror_mode": {
    "name": "ipython",
    "version": 3
   },
   "file_extension": ".py",
   "mimetype": "text/x-python",
   "name": "python",
   "nbconvert_exporter": "python",
   "pygments_lexer": "ipython3",
   "version": "3.9.12"
  }
 },
 "nbformat": 4,
 "nbformat_minor": 5
}
